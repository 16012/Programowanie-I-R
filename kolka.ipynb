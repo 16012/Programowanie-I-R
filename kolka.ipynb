{
 "cells": [
  {
   "cell_type": "code",
   "execution_count": 34,
   "metadata": {},
   "outputs": [],
   "source": [
    "import math\n",
    "class circle:\n",
    "    def __init__(self, x,y, r):\n",
    "        self.r = r\n",
    "        self.x = x\n",
    "        self.y = y\n",
    "\n",
    "    def perimeter(self):\n",
    "        return 2 * math.pi * self.r\n",
    "    \n",
    "    def intersection(self, other):\n",
    "        d = math.sqrt((self.x - other.x)**2 + (self.y - other.y)**2)\n",
    "        if d ==0 and self.r == other.r:\n",
    "            return math.inf\n",
    "        \n",
    "        elif d < abs(self.r - other.r):\n",
    "            return 0\n",
    "        elif d > self.r + other.r:\n",
    "            return 0\n",
    "        \n",
    "        elif d == self.r+other.r:\n",
    "            return 1\n",
    "        elif d == abs(self.r - other.r):\n",
    "            return 1\n",
    "        \n",
    "        elif d < self.r + other.r and d > abs(self.r - other.r):\n",
    "            return 2\n",
    "        \n"
   ]
  },
  {
   "cell_type": "code",
   "execution_count": 36,
   "metadata": {},
   "outputs": [],
   "source": [
    "o1 = circle(0,0,1)"
   ]
  },
  {
   "cell_type": "code",
   "execution_count": 37,
   "metadata": {},
   "outputs": [
    {
     "name": "stdout",
     "output_type": "stream",
     "text": [
      "6.283185307179586\n"
     ]
    }
   ],
   "source": [
    "print(o1.perimeter())"
   ]
  },
  {
   "cell_type": "code",
   "execution_count": 41,
   "metadata": {},
   "outputs": [
    {
     "name": "stdout",
     "output_type": "stream",
     "text": [
      "2\n",
      "1\n",
      "0\n",
      "0\n",
      "inf\n"
     ]
    }
   ],
   "source": [
    "print(o1.intersection(circle(1,0,1)))\n",
    "print(o1.intersection(circle(2,0,1)))\n",
    "print(o1.intersection(circle(3,0,1)))\n",
    "print(o1.intersection(circle(0,0,0.5)))\n",
    "print(o1.intersection(circle(0,0,1)))"
   ]
  },
  {
   "cell_type": "code",
   "execution_count": 31,
   "metadata": {},
   "outputs": [
    {
     "data": {
      "text/plain": [
       "1"
      ]
     },
     "execution_count": 31,
     "metadata": {},
     "output_type": "execute_result"
    }
   ],
   "source": []
  },
  {
   "cell_type": "code",
   "execution_count": null,
   "metadata": {},
   "outputs": [],
   "source": []
  }
 ],
 "metadata": {
  "kernelspec": {
   "display_name": "base",
   "language": "python",
   "name": "python3"
  },
  "language_info": {
   "codemirror_mode": {
    "name": "ipython",
    "version": 3
   },
   "file_extension": ".py",
   "mimetype": "text/x-python",
   "name": "python",
   "nbconvert_exporter": "python",
   "pygments_lexer": "ipython3",
   "version": "3.11.5"
  }
 },
 "nbformat": 4,
 "nbformat_minor": 2
}
