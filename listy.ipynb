{
 "cells": [
  {
   "cell_type": "code",
   "execution_count": 111,
   "metadata": {},
   "outputs": [],
   "source": [
    "class sorted_list(list):\n",
    "    def __init__(self, lst):\n",
    "        super().__init__(sorted(lst))\n",
    "    def append(self ,x):\n",
    "        super().append(x)\n",
    "        self.sort()\n",
    "    "
   ]
  },
  {
   "cell_type": "code",
   "execution_count": 83,
   "metadata": {},
   "outputs": [
    {
     "name": "stdout",
     "output_type": "stream",
     "text": [
      "[0]\n",
      "[-1, 0]\n",
      "[-2, -1, 0]\n",
      "[-3, -2, -1, 0]\n",
      "[-4, -3, -2, -1, 0]\n",
      "[-5, -4, -3, -2, -1, 0]\n",
      "[-6, -5, -4, -3, -2, -1, 0]\n",
      "[-7, -6, -5, -4, -3, -2, -1, 0]\n",
      "[-8, -7, -6, -5, -4, -3, -2, -1, 0]\n",
      "[-9, -8, -7, -6, -5, -4, -3, -2, -1, 0]\n"
     ]
    }
   ],
   "source": [
    "l1=sorted_list([])\n",
    "for i in range(10):\n",
    "    l1.append(-i)\n",
    "    print(l1)"
   ]
  },
  {
   "cell_type": "code",
   "execution_count": 122,
   "metadata": {},
   "outputs": [],
   "source": [
    "class stack(list):\n",
    "    def push(self, x):\n",
    "        self.append(x)\n",
    "    def pop(self):\n",
    "        super().pop()\n",
    "    def top(self):\n",
    "        return self[-1]"
   ]
  },
  {
   "cell_type": "code",
   "execution_count": null,
   "metadata": {},
   "outputs": [],
   "source": []
  }
 ],
 "metadata": {
  "kernelspec": {
   "display_name": "base",
   "language": "python",
   "name": "python3"
  },
  "language_info": {
   "codemirror_mode": {
    "name": "ipython",
    "version": 3
   },
   "file_extension": ".py",
   "mimetype": "text/x-python",
   "name": "python",
   "nbconvert_exporter": "python",
   "pygments_lexer": "ipython3",
   "version": "3.11.5"
  }
 },
 "nbformat": 4,
 "nbformat_minor": 2
}
