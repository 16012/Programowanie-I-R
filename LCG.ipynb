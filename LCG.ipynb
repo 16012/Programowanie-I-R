{
 "cells": [
  {
   "cell_type": "code",
   "execution_count": 4,
   "metadata": {},
   "outputs": [],
   "source": [
    "class lcg:\n",
    "    def __init__(self, seed, a, b, m):\n",
    "        if type(m)!=int: raise ValueError('m must be an integer')\n",
    "        if (type(seed)!=int or seed>m): raise ValueError('seed must be an integer smaller than m')\n",
    "        if type(a)!=int: raise ValueError('a must be an integer')\n",
    "        if (type(b)!=int or b<0): raise ValueError('b must be a positive integer')\n",
    "\n",
    "        self.seed = seed\n",
    "        self.a = a\n",
    "        self.b = b\n",
    "        self.m = m"
   ]
  },
  {
   "cell_type": "code",
   "execution_count": null,
   "metadata": {},
   "outputs": [],
   "source": []
  }
 ],
 "metadata": {
  "kernelspec": {
   "display_name": "base",
   "language": "python",
   "name": "python3"
  },
  "language_info": {
   "codemirror_mode": {
    "name": "ipython",
    "version": 3
   },
   "file_extension": ".py",
   "mimetype": "text/x-python",
   "name": "python",
   "nbconvert_exporter": "python",
   "pygments_lexer": "ipython3",
   "version": "3.11.5"
  }
 },
 "nbformat": 4,
 "nbformat_minor": 2
}
