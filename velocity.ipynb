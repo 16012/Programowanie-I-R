{
 "cells": [
  {
   "cell_type": "code",
   "execution_count": 98,
   "metadata": {},
   "outputs": [],
   "source": [
    "import math\n",
    "\n",
    "class velocity:\n",
    "    #beta == v/c\n",
    "    def __init__(self, v=0):\n",
    "            if (-1<=v<=1) and ((type(v) == float) or (type(v) == int)): \n",
    "                self.beta = v\n",
    "            else:\n",
    "                raise ValueError(\"Beta must be a float between 0 and 1\")\n",
    "    def gamma(self):\n",
    "        if (self.beta != 1 and self.beta != -1):\n",
    "            return 1/(1-self.beta**2)**0.5\n",
    "        else:\n",
    "            return math.inf\n",
    "    \n",
    "\n",
    "    def __str__(self):\n",
    "        return f\"beta = {self.beta}, gamma = {self.gamma()}\"\n",
    "    def __repr__(self):\n",
    "        return f\"beta = {self.beta}, gamma = {self.gamma()}\"\n",
    "    \n",
    "\n",
    "    def __add__(self, other):\n",
    "        return velocity((self.beta + other.beta)/(1+self.beta*other.beta))\n",
    "    def __iadd__(self, other):\n",
    "        self.beta = (self.beta + other.beta)/(1+self.beta*other.beta)\n",
    "        return self"
   ]
  },
  {
   "cell_type": "code",
   "execution_count": 103,
   "metadata": {},
   "outputs": [
    {
     "name": "stdout",
     "output_type": "stream",
     "text": [
      "beta = 0.5, gamma = 1.1547005383792517\n",
      "v2: beta = 0.9, gamma = 2.294157338705618\n",
      "beta = 1, gamma = inf\n",
      "v2: beta = 0.9655172413793103, gamma = 3.8411438354886243\n"
     ]
    }
   ],
   "source": [
    "v1=velocity(0.5)\n",
    "print(v1)\n",
    "v2=velocity(0.9)\n",
    "print('v2:',v2)\n",
    "c=velocity(1)\n",
    "print(c)\n",
    "v2+=v1\n",
    "print('v2:',v2)"
   ]
  },
  {
   "cell_type": "code",
   "execution_count": 104,
   "metadata": {},
   "outputs": [
    {
     "name": "stdout",
     "output_type": "stream",
     "text": [
      "beta = 0.9883720930232557, gamma = 6.576584370956068\n",
      "beta = 1.0, gamma = inf\n"
     ]
    }
   ],
   "source": [
    "print(v1+v2)\n",
    "print(c+v1)"
   ]
  },
  {
   "cell_type": "code",
   "execution_count": null,
   "metadata": {},
   "outputs": [],
   "source": []
  }
 ],
 "metadata": {
  "kernelspec": {
   "display_name": "base",
   "language": "python",
   "name": "python3"
  },
  "language_info": {
   "codemirror_mode": {
    "name": "ipython",
    "version": 3
   },
   "file_extension": ".py",
   "mimetype": "text/x-python",
   "name": "python",
   "nbconvert_exporter": "python",
   "pygments_lexer": "ipython3",
   "version": "3.11.5"
  }
 },
 "nbformat": 4,
 "nbformat_minor": 2
}
