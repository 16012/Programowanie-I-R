{
 "cells": [
  {
   "cell_type": "code",
   "execution_count": 71,
   "metadata": {},
   "outputs": [],
   "source": [
    "import math\n",
    "import sympy as sp\n",
    "\n",
    "class polynomial:\n",
    "    def __init__(self, *coeffs):\n",
    "        self.coeffs = coeffs\n",
    "\n",
    "    def deg(self):\n",
    "        if len(self.coeffs) == 1 and self.coeffs[0] != 0:\n",
    "            return 0\n",
    "        elif len(self.coeffs) == 1 and self.coeffs[0] == 0:\n",
    "            return -math.inf\n",
    "        else:\n",
    "            return len(self.coeffs) - 1\n",
    "        \n",
    "    def __getitem__(self,n):\n",
    "        return self.coeffs[n]\n",
    "    def __set__(self,n,val):\n",
    "        self.coeffs[n] = val\n",
    "    def __call__(self, x):\n",
    "        return sum(a * x ** i for i, a in enumerate(self.coeffs))\n",
    "    def __add__(self, other):\n",
    "        return polynomial(*(a + b for a, b in zip(self.coeffs, other.coeffs)))\n",
    "    def __neg__(self):\n",
    "        return polynomial(*(-a for a in self.coeffs))\n",
    "    def __rmul__(self,x):\n",
    "        return polynomial(*(x*a for a in self.coeffs))\n",
    "    def __mul__(self,x):\n",
    "        return polynomial(*(a*x for a in self.coeffs))\n",
    "    def D(self):\n",
    "        return polynomial(*(a * i for i, a in enumerate(self.coeffs) if i > 0))"
   ]
  },
  {
   "cell_type": "code",
   "execution_count": 73,
   "metadata": {},
   "outputs": [
    {
     "data": {
      "text/plain": [
       "(5, 10, 15)"
      ]
     },
     "execution_count": 73,
     "metadata": {},
     "output_type": "execute_result"
    }
   ],
   "source": [
    "poly1=polynomial(1,2,3)\n",
    "poly2=polynomial(0)\n",
    "(5*poly1).coeffs"
   ]
  },
  {
   "cell_type": "code",
   "execution_count": 74,
   "metadata": {},
   "outputs": [],
   "source": [
    "class hermite_polynomial(polynomial):\n",
    "    def __init__(self, n):\n",
    "        if n == 0:\n",
    "            super().__init__(1)\n",
    "        elif n == 1:\n",
    "            super().__init__(0, 2)\n",
    "        else:\n",
    "            self.n = n\n",
    "            self.hermite = self.hermite_polynomial(n)\n",
    "            super().__init__(*self.hermite)\n",
    "class legendre_polynomial(polynomial):\n",
    "    def __init__(self, n):\n",
    "        if n == 0:\n",
    "            super().__init__(1)\n",
    "        elif n == 1:\n",
    "            super().__init__(0, 1)\n",
    "        else:\n",
    "            self.n = n\n",
    "            self.legendre = self.legendre_polynomial(n)\n",
    "            super().__init__(*self.legendre)"
   ]
  },
  {
   "cell_type": "code",
   "execution_count": null,
   "metadata": {},
   "outputs": [],
   "source": []
  }
 ],
 "metadata": {
  "kernelspec": {
   "display_name": "base",
   "language": "python",
   "name": "python3"
  },
  "language_info": {
   "codemirror_mode": {
    "name": "ipython",
    "version": 3
   },
   "file_extension": ".py",
   "mimetype": "text/x-python",
   "name": "python",
   "nbconvert_exporter": "python",
   "pygments_lexer": "ipython3",
   "version": "3.11.5"
  }
 },
 "nbformat": 4,
 "nbformat_minor": 2
}
