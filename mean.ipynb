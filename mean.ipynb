{
 "cells": [
  {
   "cell_type": "code",
   "execution_count": 68,
   "metadata": {},
   "outputs": [],
   "source": [
    "import math\n",
    "\n",
    "class mean:\n",
    "    def __init__(self,*args):\n",
    "        if len(args)==1:\n",
    "            if type(args[0])==list:\n",
    "                self.list=args[0]\n",
    "                self.n=self.N()\n",
    "        else:\n",
    "            self.list=list(args)\n",
    "            self.n=self.N()\n",
    "    def N(self):\n",
    "        return len(self.list)\n",
    "    def __call__(self, *args):\n",
    "        pass"
   ]
  },
  {
   "cell_type": "code",
   "execution_count": 69,
   "metadata": {},
   "outputs": [],
   "source": [
    "class arithmetic_mean(mean):\n",
    "    def __call__(self):\n",
    "        return sum(self.list)/self.N()\n",
    "class geometric_mean(mean):\n",
    "    def __call__(self):\n",
    "        return math.prod([i for i in self.list])**(1/self.N())\n",
    "class harmonic_mean(mean):\n",
    "    def __call__(self):\n",
    "        return self.N()/sum([1/i for i in self.list])"
   ]
  },
  {
   "cell_type": "code",
   "execution_count": 71,
   "metadata": {},
   "outputs": [
    {
     "name": "stdout",
     "output_type": "stream",
     "text": [
      "3.0\n",
      "2.605171084697352\n",
      "2.18978102189781\n"
     ]
    }
   ],
   "source": [
    "mean1=arithmetic_mean([1,2,3,4,5])\n",
    "mean2=geometric_mean([1,2,3,4,5])\n",
    "mean3=harmonic_mean([1,2,3,4,5])\n",
    "print(mean1())\n",
    "print(mean2())\n",
    "print(mean3())"
   ]
  },
  {
   "cell_type": "code",
   "execution_count": null,
   "metadata": {},
   "outputs": [],
   "source": []
  }
 ],
 "metadata": {
  "kernelspec": {
   "display_name": "base",
   "language": "python",
   "name": "python3"
  },
  "language_info": {
   "codemirror_mode": {
    "name": "ipython",
    "version": 3
   },
   "file_extension": ".py",
   "mimetype": "text/x-python",
   "name": "python",
   "nbconvert_exporter": "python",
   "pygments_lexer": "ipython3",
   "version": "3.11.5"
  }
 },
 "nbformat": 4,
 "nbformat_minor": 2
}
