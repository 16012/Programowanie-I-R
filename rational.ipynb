{
 "cells": [
  {
   "cell_type": "code",
   "execution_count": 23,
   "metadata": {},
   "outputs": [],
   "source": [
    "import math\n",
    "class rationalNumber:\n",
    "    def __init__(self, p=0, q=math.inf):\n",
    "        if (type(p)!=int or type(q)!=int):\n",
    "            raise ValueError(\"P and Q must be integers\")\n",
    "        if (q==0):\n",
    "            raise ValueError(\"Denominator cannot be zero\")\n",
    "        elif (q<0):\n",
    "            raise ValueError(\"Denominator cannot be negative\")\n",
    "        else:\n",
    "            if (math.gcd(p,q) == 1 or p==0):\n",
    "                self.p = p\n",
    "                self.q = q\n",
    "    \n",
    "    def numerator(self):\n",
    "        return self.p\n",
    "    def denominator(self):\n",
    "        return self.q\n",
    "    \n",
    "    #operacje i inne smieci\n",
    "    def __str__(self):\n",
    "        return f'{self.p}/{self.q}'\n",
    "    def __add__(self,other):\n",
    "        return rationalNumber(self.p*other.q + other.p*self.q,self.q*other.q)\n",
    "    def __neg__(self):\n",
    "        return rationalNumber(-self.p,self.q)\n",
    "    def __sub__(self,other):\n",
    "        return self + (-other)\n",
    "    def __mul__(self,other):\n",
    "        return rationalNumber(self.p*other.p,self.q*other.q)\n",
    "    def __truediv__(self,other):\n",
    "        return rationalNumber(self.p*other.q,self.q*other.p)\n",
    "    def __eq__(self,other):\n",
    "        return self.p*other.q == other.p*self.q\n",
    "    def __lt__(self,other):\n",
    "        return self.p*other.q < other.p*self.q\n",
    "    def __le__(self,other):\n",
    "        return self.p*other.q <= other.p*self.q\n",
    "    def __gt__(self,other):\n",
    "        return self.p*other.q > other.p*self.q\n",
    "    def __ge__(self,other):\n",
    "        return self.p*other.q >= other.p*self.q\n",
    "    def __iadd__(self,other):\n",
    "        self = self + other\n",
    "        return self\n",
    "    def __isub__(self,other):\n",
    "        self = self - other\n",
    "        return self\n",
    "    def __imul__(self,other):\n",
    "        self = self * other\n",
    "        return self\n",
    "    def __itruediv__(self,other):\n",
    "        self = self / other\n",
    "        return self\n",
    "    "
   ]
  },
  {
   "cell_type": "code",
   "execution_count": 26,
   "metadata": {},
   "outputs": [
    {
     "name": "stdout",
     "output_type": "stream",
     "text": [
      "0/2\n",
      "1/2\n"
     ]
    }
   ],
   "source": [
    "A = rationalNumber(0,2)\n",
    "print(A)\n",
    "B = rationalNumber(1,2)\n",
    "print(B)"
   ]
  },
  {
   "cell_type": "code",
   "execution_count": null,
   "metadata": {},
   "outputs": [],
   "source": []
  }
 ],
 "metadata": {
  "kernelspec": {
   "display_name": "base",
   "language": "python",
   "name": "python3"
  },
  "language_info": {
   "codemirror_mode": {
    "name": "ipython",
    "version": 3
   },
   "file_extension": ".py",
   "mimetype": "text/x-python",
   "name": "python",
   "nbconvert_exporter": "python",
   "pygments_lexer": "ipython3",
   "version": "3.11.5"
  }
 },
 "nbformat": 4,
 "nbformat_minor": 2
}
